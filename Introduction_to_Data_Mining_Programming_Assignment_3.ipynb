{
  "cells": [
    {
      "cell_type": "markdown",
      "metadata": {
        "id": "ADrDz30dcpU3"
      },
      "source": [
        "The code here creates the data and generates df, which has binarized it"
      ]
    },
    {
      "cell_type": "code",
      "execution_count": null,
      "metadata": {
        "id": "5AlmMRigXRqF"
      },
      "outputs": [],
      "source": [
        "from mlxtend.preprocessing import TransactionEncoder\n",
        "import pandas as pd\n",
        "import numpy as np\n",
        "\n",
        "# Worked with Gino Costanzo, Dante Corso\n",
        "\n",
        "fruits = ['Apple', 'Lemon', 'Grape', 'Banana', 'Orange', 'Kiwi', 'Pear', 'Tangerine', 'Watermelon', 'Cantaloupe', 'Lime', 'Strawberry', 'Blueberry', 'Cherry', None, None, None, None]\n",
        "\n",
        "np.random.seed(42)\n",
        "# Given transaction data\n",
        "data = {\n",
        "    'Fruit 1': np.random.choice(fruits, size=500),\n",
        "    'Fruit 2': np.random.choice(fruits, size=500),\n",
        "    'Fruit 3': np.random.choice(fruits, size=500),\n",
        "    'Fruit 4': np.random.choice(fruits, size=500),\n",
        "    'Fruit 5': np.random.choice(fruits, size=500),\n",
        "    'Fruit 6': np.random.choice(fruits, size=500),\n",
        "    'Fruit 7': np.random.choice(fruits, size=500),\n",
        "    'Fruit 8': np.random.choice(fruits, size=500),\n",
        "    'Fruit 9': np.random.choice(fruits, size=500),\n",
        "    'Fruit 10': np.random.choice(fruits, size=500),\n",
        "}\n",
        "\n",
        "df = pd.DataFrame(data)\n",
        "\n",
        "# Convert transaction data to a list of lists\n",
        "transactions = df.iloc[:, 1:].apply(lambda row: row.dropna().tolist(), axis=1).tolist()\n",
        "\n",
        "\n",
        "# Convert transactions to a one-hot encoded format\n",
        "te = TransactionEncoder()\n",
        "one_hot_encoded = te.fit(transactions).transform(transactions)\n",
        "\n",
        "# Create a DataFrame from the one-hot encoded format\n",
        "df = pd.DataFrame(one_hot_encoded, columns=te.columns_)"
      ]
    },
    {
      "cell_type": "markdown",
      "metadata": {
        "id": "CVseaqNccukj"
      },
      "source": [
        "This will provide all k-itemsets with k < 5 \\\\\n",
        "Note: The consequent should be the last item and the antecedent should be everything before it. \\\\\n",
        "Other Note: It might be helpful to put all_itemsets into a dataframe"
      ]
    },
    {
      "cell_type": "code",
      "execution_count": null,
      "metadata": {
        "id": "f1vfJ_nYR8wD"
      },
      "outputs": [],
      "source": [
        "from itertools import permutations\n",
        "\n",
        "def generate_itemsets(transactions):\n",
        "    \"\"\"\n",
        "    Generate all possible itemsets from a list of transactions.\n",
        "\n",
        "    Parameters:\n",
        "    - transactions: List of transactions, where each transaction is a set of items.\n",
        "\n",
        "    Returns:\n",
        "    - List of all possible itemsets.\n",
        "    \"\"\"\n",
        "    all_items = set(item for transaction in transactions for item in transaction)\n",
        "    all_itemsets = []\n",
        "\n",
        "    # Generate itemsets of different sizes\n",
        "    for size in range(1, 5):\n",
        "        itemsets = permutations(all_items, size)\n",
        "        all_itemsets.extend(list(itemset) for itemset in itemsets)\n",
        "\n",
        "    return all_itemsets\n",
        "\n",
        "# Generate all possible itemsets\n",
        "all_itemsets = generate_itemsets(transactions)"
      ]
    },
    {
      "cell_type": "markdown",
      "metadata": {
        "id": "T0UpyBVBdE2J"
      },
      "source": [
        "This is where I leave you. Good luck"
      ]
    },
    {
      "cell_type": "code",
      "execution_count": null,
      "metadata": {
        "id": "fgJSx1HPdG-D"
      },
      "outputs": [],
      "source": [
        "def generate_support(data, itemsets):\n",
        "  support = {}\n",
        "  for transaction in data:\n",
        "    for item in transaction:\n",
        "      if item in support:\n",
        "        support[item] += 1\n",
        "      else:\n",
        "        support[item] = 1\n",
        "\n",
        "  numTransactions = len(data)\n",
        "\n",
        "  itemSupport = {item: count / numTransactions for item, count in support.items()}\n",
        "\n",
        "  for itemset in itemsets:\n",
        "      itemsetTuple = tuple(itemset)\n",
        "      itemsetCount = 0\n",
        "      for transaction in data:\n",
        "          if all(item in transaction for item in itemset):\n",
        "                itemsetCount += 1\n",
        "      itemSupport[itemsetTuple] = itemsetCount / numTransactions\n",
        "      \n",
        "  #print(itemSupport)    \n",
        "  return itemSupport"
      ]
    },
    {
      "cell_type": "code",
      "execution_count": null,
      "metadata": {
        "id": "jc4hFVqZdL85"
      },
      "outputs": [],
      "source": [
        "def generate_confidence(itemset, antecedent, support):\n",
        "    if isinstance(itemset, str):\n",
        "        itemset = {itemset}\n",
        "    if isinstance(antecedent, str):\n",
        "        antecedent = {antecedent}\n",
        "    support_itemset = support.get(frozenset(itemset), 0)\n",
        "    support_antecedent = support.get(frozenset(antecedent), 0)\n",
        "\n",
        "    # Avoid division by zero if the antecedent has no support\n",
        "    if support_antecedent == 0:\n",
        "        return 0\n",
        "    confidence = support_itemset / support_antecedent\n",
        "\n",
        "    return confidence"
      ]
    },
    {
      "cell_type": "code",
      "execution_count": null,
      "metadata": {
        "id": "2KqLQwF3dWoG"
      },
      "outputs": [],
      "source": [
        "def prune_infrequent(itemset_support, min_support):\n",
        "  #Code goes here, feel free to add parameters\n",
        "    pruned_itemset_support = {itemset: support for itemset, support in itemset_support.items() if support >= min_support}\n",
        "\n",
        "    print(\"\\nFrequent itemsets after pruning infrequent itemsets:\")\n",
        "    print(pruned_itemset_support)\n",
        "\n",
        "    #print(pruned_itemset_support)\n",
        "    return pruned_itemset_support"
      ]
    },
    {
      "cell_type": "code",
      "execution_count": null,
      "metadata": {
        "id": "iXOVtBEwdYle"
      },
      "outputs": [],
      "source": [
        "def is_closed(itemset, all_itemsets, itemset_support):\n",
        "  #Code goes here, feel free to add parameters\n",
        "  itemset_sup = itemset_support.get(frozenset(itemset), 0)\n",
        "  for other_itemset in all_itemsets:\n",
        "      if set(itemset).issubset(set(other_itemset)) and itemset_support.get(frozenset(other_itemset), 0) == itemset_sup:\n",
        "            return False\n",
        "  return True"
      ]
    },
    {
      "cell_type": "code",
      "execution_count": null,
      "metadata": {
        "id": "_JfoHb6YdZNe"
      },
      "outputs": [],
      "source": [
        "def is_maximal(itemset, all_itemsets, itemset_support, min_support):\n",
        "  #Code goes here, feel free to add parameters\n",
        "  for other_itemset in all_itemsets:\n",
        "        if set(itemset).issubset(set(other_itemset)) and itemset_support.get(frozenset(other_itemset), 0) >= min_support:\n",
        "            return False\n",
        "  return True"
      ]
    }
  ],
  "metadata": {
    "colab": {
      "provenance": []
    },
    "kernelspec": {
      "display_name": "Python 3",
      "name": "python3"
    },
    "language_info": {
      "name": "python"
    }
  },
  "nbformat": 4,
  "nbformat_minor": 0
}
