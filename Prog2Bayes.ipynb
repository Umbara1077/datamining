{
 "cells": [
  {
   "cell_type": "code",
   "execution_count": null,
   "metadata": {},
   "outputs": [],
   "source": [
    "import pandas as pd\n",
    "import numpy as np\n",
    "# Worked With Gino Costanzo\n",
    "class NaiveBayes:\n",
    "    def fit(self, X, y):\n",
    "        self.X_train = X\n",
    "        self.y_train = y\n",
    "        self.classes = np.unique(y)\n",
    "\n",
    "    def calculate_likelihood(self, x, mean, stdev):\n",
    "        exponent = np.exp(-((x - mean) ** 2 / (2 * stdev ** 2)))\n",
    "        return (1 / (np.sqrt(2 * np.pi) * stdev)) * exponent\n",
    "\n",
    "    def calculate_class_probabilities(self, input_data):\n",
    "        probabilities = {}\n",
    "        for class_value in self.classes:\n",
    "            class_indices = np.where(self.y_train == class_value)[0]\n",
    "            class_data = self.X_train[class_indices]\n",
    "\n",
    "            # Calculate mean and standard deviation for each feature\n",
    "            class_means = np.mean(class_data, axis=0)\n",
    "            class_stdevs = np.std(class_data, axis=0)\n",
    "\n",
    "            # Calculate likelihood for each feature\n",
    "            likelihood = np.prod(self.calculate_likelihood(input_data, class_means, class_stdevs))\n",
    "\n",
    "            # Calculate prior probability\n",
    "            prior = len(class_indices) / len(self.y_train)\n",
    "\n",
    "            # Calculate class probability using Bayes' theorem\n",
    "            probabilities[class_value] = prior * likelihood\n",
    "\n",
    "        return probabilities\n",
    "\n",
    "    # Use it for further predicting model\n",
    "    def predict(self, X):\n",
    "        predictions = []\n",
    "        for sample in X:\n",
    "            probabilities = self.calculate_class_probabilities(sample)\n",
    "            predicted_class = max(probabilities, key=probabilities.get)\n",
    "            predictions.append(predicted_class)\n",
    "        return predictions\n"
   ]
  },
  {
   "cell_type": "code",
   "execution_count": null,
   "metadata": {},
   "outputs": [],
   "source": [
    "data = [['Blue','Blue','Brown','Yes'],['Red','Blue','Brown','Yes'],\n",
    "        ['Red','Brown','Black','No'],['Red','Green','Brown','No'],\n",
    "        ['Green','Green','Blonde','Yes'],['Blue','Brown','Blonde','No']]"
   ]
  },
  {
   "cell_type": "code",
   "execution_count": null,
   "metadata": {},
   "outputs": [],
   "source": [
    "df = pd.DataFrame( data, columns = ['Favorite Color', 'Eye Color', 'Hair Color', 'Happy'] )\n",
    "\n",
    "\n",
    "features = df[['Favorite Color','Eye Color','Hair Color']].values\n",
    "target = df['Happy'].values\n",
    "\n",
    "# Initialize the Naive Bayes class\n",
    "gnb = NaiveBayes()\n",
    "\n",
    "# Use methods in class\n",
    "gnb.fit(features, target)\n",
    "\n",
    "y_pred = gnb.predict(features)\n",
    "\n",
    "accuracy = np.mean(y_pred == target)\n",
    "print(\"Accuracy:\", accuracy)\n"
   ]
  }
 ],
 "metadata": {
  "language_info": {
   "name": "python"
  }
 },
 "nbformat": 4,
 "nbformat_minor": 2
}
