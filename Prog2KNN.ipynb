{
 "cells": [
  {
   "cell_type": "code",
   "execution_count": null,
   "metadata": {},
   "outputs": [],
   "source": [
    "import pandas as pd\n",
    "import numpy as np\n",
    "# Worked With Gino Costanzo \n",
    "def euclidean_distance(x1, x2):\n",
    "    return np.sqrt(np.sum((x1 - x2)**2))\n",
    "\n",
    "class KNN:\n",
    "    def __init__(self, k=10):\n",
    "        self.k = k\n",
    "\n",
    "    def fit(self, X, Y):\n",
    "        self.X_train = X\n",
    "        self.Y_train = Y\n",
    "\n",
    "    def predict(self, X):\n",
    "        y_pred = [self._predict(x) for x in X]\n",
    "        return np.array(y_pred)\n",
    "\n",
    "    def _predict(self, x):\n",
    "        distances = [euclidean_distance(x, x_train) for x_train in self.X_train]\n",
    "        k_indices = np.argsort(distances)[:self.k]\n",
    "        k_nearest_labels = [self.Y_train[i] for i in k_indices]\n",
    "        most_common = np.argmax(np.bincount(k_nearest_labels))\n",
    "        return most_common\n",
    "\n",
    "def train_test_split(X, y, test_size=0.2, random_state=None):\n",
    "    np.random.seed(random_state)\n",
    "    shuffled = np.random.permutation(len(X))\n",
    "    test_set_size = int(len(X) * test_size)\n",
    "    test = shuffled[:test_set_size]\n",
    "    train = shuffled[test_set_size:]\n",
    "    return X[train], X[test], y[train], y[test]\n"
   ]
  },
  {
   "cell_type": "code",
   "execution_count": null,
   "metadata": {},
   "outputs": [],
   "source": [
    "data = [[2,2,0],[3,1,0],\n",
    "        [4,1,0],[1,5,0],\n",
    "        [-1,3,0],[-3,-2,0]]"
   ]
  },
  {
   "cell_type": "code",
   "execution_count": null,
   "metadata": {},
   "outputs": [],
   "source": [
    "df = pd.DataFrame( data, columns = ['Test1','Test2','Find'] )\n",
    "\n",
    "\n",
    "features = df[['Test1', 'Test2']].values\n",
    "target = df['Find'].values\n",
    "\n",
    "# iterate though every point and calculate distance (norm), then take the values of the 6 smallest distances\n",
    "# a way to do that might be indexing at a slice of an argsort\n",
    "\n",
    "# Split the data into training and testing sets\n",
    "X_train, X_test, Y_train, Y_test = train_test_split(features, target, random_state=42)\n",
    "\n",
    "# Initialize KNN \n",
    "k = 10\n",
    "knn = KNN(k=k)\n",
    "\n",
    "# Uses methods in KNN Class\n",
    "knn.fit(X_train, Y_train)\n",
    "\n",
    "y_pred = knn.predict(X_test)\n",
    "\n",
    "accuracy = np.mean(y_pred == Y_test)\n",
    "print(\"Accuracy:\", accuracy)"
   ]
  }
 ],
 "metadata": {
  "language_info": {
   "name": "python"
  }
 },
 "nbformat": 4,
 "nbformat_minor": 2
}
